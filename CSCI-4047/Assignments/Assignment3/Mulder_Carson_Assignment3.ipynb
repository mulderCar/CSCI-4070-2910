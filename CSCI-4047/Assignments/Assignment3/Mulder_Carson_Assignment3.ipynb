{
 "cells": [
  {
   "cell_type": "markdown",
   "metadata": {},
   "source": [
    "# Assignment 3\n",
    "\n",
    "### Instructions\n",
    "1. Import the following modules:\n",
    "    - `pandas`\n",
    "    - `stats` from `scipy`\n",
    "2. Create a dataframe from the data contained in *income_data.csv* using `pandas`"
   ]
  },
  {
   "cell_type": "code",
   "execution_count": 1,
   "metadata": {},
   "outputs": [],
   "source": [
    "import pandas as pd\n",
    "from scipy import stats\n",
    "\n",
    "df = pd.read_csv('income_data.csv')"
   ]
  },
  {
   "cell_type": "markdown",
   "metadata": {},
   "source": [
    "3. Calculate and display Pearson's **correlation coefficients** and the **p-values** for *income* and *education*"
   ]
  },
  {
   "cell_type": "code",
   "execution_count": 2,
   "metadata": {},
   "outputs": [
    {
     "name": "stdout",
     "output_type": "stream",
     "text": [
      "Income & Education\n",
      "r (Pearson correlation coefficient): 0.725\n",
      "p-value:                             0.000\n"
     ]
    }
   ],
   "source": [
    "print('Income & Education')\n",
    "r, p = stats.pearsonr(df['income'], df['education'])\n",
    "print(f'r (Pearson correlation coefficient): {r:.3f}')\n",
    "print(f'p-value:                             {p:.3f}')"
   ]
  },
  {
   "cell_type": "markdown",
   "metadata": {},
   "source": [
    "3. Calculate and display Pearson's **correlation coefficients** and the **p-values** for *income* and *prestige*"
   ]
  },
  {
   "cell_type": "code",
   "execution_count": 3,
   "metadata": {},
   "outputs": [
    {
     "name": "stdout",
     "output_type": "stream",
     "text": [
      "Income & Prestige\n",
      "r (Pearson correlation coefficient): 0.838\n",
      "p-value:                             0.000\n"
     ]
    }
   ],
   "source": [
    "print('Income & Prestige')\n",
    "r, p = stats.pearsonr(df['income'], df['prestige'])\n",
    "print(f'r (Pearson correlation coefficient): {r:.3f}')\n",
    "print(f'p-value:                             {p:.3f}')"
   ]
  },
  {
   "cell_type": "markdown",
   "metadata": {},
   "source": [
    "4. Calculate and display Pearson's **correlation coefficients** and the **p-values** for *education* and *prestige*"
   ]
  },
  {
   "cell_type": "code",
   "execution_count": 4,
   "metadata": {},
   "outputs": [
    {
     "name": "stdout",
     "output_type": "stream",
     "text": [
      "Education & Prestige\n",
      "r (Pearson correlation coefficient): 0.852\n",
      "p-value:                             0.000\n"
     ]
    }
   ],
   "source": [
    "print('Education & Prestige')\n",
    "r, p = stats.pearsonr(df['education'], df['prestige'])\n",
    "print(f'r (Pearson correlation coefficient): {r:.3f}')\n",
    "print(f'p-value:                             {p:.3f}')"
   ]
  },
  {
   "cell_type": "markdown",
   "metadata": {},
   "source": [
    "5. In the empty `Markdown` cell below, explain the following for **each of the calculated correlation coefficients**\n",
    "    - The **strength** and **direction** of the correlation\n",
    "    - The **statistical significance** of the test (**p-value**); emphasize if we can trust the correlation test or not, and why"
   ]
  },
  {
   "cell_type": "markdown",
   "metadata": {},
   "source": [
    "#### 3a.\n",
    "        Strength & Direction: Pretty Strong and Positive\n",
    "        Statistical Significance: We can trust it because the value is 0\n",
    "#### 3b.\n",
    "        Strength & Direction: Pretty Strong and Positive\n",
    "        Statistical Significance: We can trust it because the value is 0\n",
    "#### 3c.\n",
    "        Strength & Direction: Pretty Strong and Positive\n",
    "        Statistical Significance: We can trust it because the value is 0"
   ]
  },
  {
   "cell_type": "markdown",
   "metadata": {},
   "source": [
    "In the empty `Markdown` cell below, answer the following question:\n",
    "\n",
    "6. Pearson's correlation coefficient OR covariance can both be used to measure the direction of the relationship between two variables (e.g., education and income). Explain why Pearson's correlation coefficient may be better than covariance."
   ]
  },
  {
   "cell_type": "markdown",
   "metadata": {},
   "source": [
    "Pearson's correlation coefficient is preferred over covariance because it standardizes the relationship between two variables, making it easier to interpret and compare across different datasets, regardless of scale or units."
   ]
  },
  {
   "cell_type": "markdown",
   "metadata": {},
   "source": [
    "7. Submit this `Jupyter` file to D2L, renamed as **Last_First_Assignment3.ipynb** \n",
    "    - Replace '**Last**' and '**First**' with your name"
   ]
  }
 ],
 "metadata": {
  "kernelspec": {
   "display_name": "Python 3",
   "language": "python",
   "name": "python3"
  },
  "language_info": {
   "codemirror_mode": {
    "name": "ipython",
    "version": 3
   },
   "file_extension": ".py",
   "mimetype": "text/x-python",
   "name": "python",
   "nbconvert_exporter": "python",
   "pygments_lexer": "ipython3",
   "version": "3.12.6"
  },
  "orig_nbformat": 4
 },
 "nbformat": 4,
 "nbformat_minor": 2
}
