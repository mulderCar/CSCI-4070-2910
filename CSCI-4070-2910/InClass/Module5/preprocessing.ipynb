{
 "cells": [
  {
   "cell_type": "markdown",
   "metadata": {},
   "source": [
    "# Preprocessing in Python using data from a CSV```(DirtyData.csv)```\n",
    "- import ```pandas``` as pd\n",
    "- import ```numpy``` as np"
   ]
  },
  {
   "cell_type": "code",
   "execution_count": 15,
   "metadata": {},
   "outputs": [
    {
     "data": {
      "text/html": [
       "<div>\n",
       "<style scoped>\n",
       "    .dataframe tbody tr th:only-of-type {\n",
       "        vertical-align: middle;\n",
       "    }\n",
       "\n",
       "    .dataframe tbody tr th {\n",
       "        vertical-align: top;\n",
       "    }\n",
       "\n",
       "    .dataframe thead th {\n",
       "        text-align: right;\n",
       "    }\n",
       "</style>\n",
       "<table border=\"1\" class=\"dataframe\">\n",
       "  <thead>\n",
       "    <tr style=\"text-align: right;\">\n",
       "      <th></th>\n",
       "      <th>first_name</th>\n",
       "      <th>last_name</th>\n",
       "      <th>email</th>\n",
       "      <th>gender</th>\n",
       "      <th>income</th>\n",
       "      <th>tax_15</th>\n",
       "    </tr>\n",
       "  </thead>\n",
       "  <tbody>\n",
       "    <tr>\n",
       "      <th>0</th>\n",
       "      <td>Alverta</td>\n",
       "      <td>Colkett</td>\n",
       "      <td>acolkett0@cocolog-nifty.com</td>\n",
       "      <td>Female</td>\n",
       "      <td>123072.34</td>\n",
       "      <td>NaN</td>\n",
       "    </tr>\n",
       "    <tr>\n",
       "      <th>1</th>\n",
       "      <td>Nichole</td>\n",
       "      <td>Brandassi</td>\n",
       "      <td>nbrandassi1@mail.ru</td>\n",
       "      <td>Bigender</td>\n",
       "      <td>NaN</td>\n",
       "      <td>24115.00</td>\n",
       "    </tr>\n",
       "    <tr>\n",
       "      <th>2</th>\n",
       "      <td>Ruperto</td>\n",
       "      <td>Chaddock</td>\n",
       "      <td>rchaddock2@mail.ru</td>\n",
       "      <td>Male</td>\n",
       "      <td>62524.77</td>\n",
       "      <td>9378.72</td>\n",
       "    </tr>\n",
       "    <tr>\n",
       "      <th>3</th>\n",
       "      <td>Lula</td>\n",
       "      <td>Sorrill</td>\n",
       "      <td>lsorrill3@hatena.ne.jp</td>\n",
       "      <td>Female</td>\n",
       "      <td>48000.77</td>\n",
       "      <td>7200.12</td>\n",
       "    </tr>\n",
       "    <tr>\n",
       "      <th>4</th>\n",
       "      <td>Blondell</td>\n",
       "      <td>Benard</td>\n",
       "      <td>bbenard4@admin.ch</td>\n",
       "      <td>Female</td>\n",
       "      <td>88638.49</td>\n",
       "      <td>13295.77</td>\n",
       "    </tr>\n",
       "  </tbody>\n",
       "</table>\n",
       "</div>"
      ],
      "text/plain": [
       "  first_name  last_name                        email    gender     income  \\\n",
       "0    Alverta    Colkett  acolkett0@cocolog-nifty.com    Female  123072.34   \n",
       "1    Nichole  Brandassi          nbrandassi1@mail.ru  Bigender        NaN   \n",
       "2    Ruperto   Chaddock           rchaddock2@mail.ru      Male   62524.77   \n",
       "3       Lula    Sorrill       lsorrill3@hatena.ne.jp    Female   48000.77   \n",
       "4   Blondell     Benard            bbenard4@admin.ch    Female   88638.49   \n",
       "\n",
       "     tax_15  \n",
       "0       NaN  \n",
       "1  24115.00  \n",
       "2   9378.72  \n",
       "3   7200.12  \n",
       "4  13295.77  "
      ]
     },
     "execution_count": 15,
     "metadata": {},
     "output_type": "execute_result"
    }
   ],
   "source": [
    "import pandas as pd\n",
    "import numpy as np\n",
    "\n",
    "# Load the data\n",
    "df = pd.read_csv('./DirtyData.csv')\n",
    "\n",
    "# Print the data\n",
    "df.head()"
   ]
  },
  {
   "cell_type": "markdown",
   "metadata": {},
   "source": [
    "## Check how much of the data is missing\n",
    "### Create a function to check how many missing values that we have in the CSV```(DirtyData.csv)```"
   ]
  },
  {
   "cell_type": "code",
   "execution_count": 16,
   "metadata": {},
   "outputs": [
    {
     "name": "stdout",
     "output_type": "stream",
     "text": [
      "Missing values per column:\n",
      "first_name      0\n",
      "last_name       0\n",
      "email           0\n",
      "gender          0\n",
      "income        115\n",
      "tax_15         28\n",
      "\n",
      "Percentage of missing values:\n",
      "2.38%\n",
      "\n",
      "Number of rows WITHOUT any missing values:\n",
      "857\n"
     ]
    }
   ],
   "source": [
    "# check how many missing values we have per column\n",
    "def missing_values():\n",
    "    print(\"Missing values per column:\")\n",
    "    null_values = df.isna().sum()\n",
    "    print(null_values.to_string())\n",
    "\n",
    "    print(\"\\nPercentage of missing values:\")\n",
    "    pct_missing = null_values.sum() / (len(df) * len(df.columns))\n",
    "    print(f\"{pct_missing * 100:.2f}%\")\n",
    "\n",
    "    print(\"\\nNumber of rows WITHOUT any missing values:\")\n",
    "    rows_without_missing = len((df[(df.income.isna()) | (df.tax_15.isna())]))\n",
    "    print(len(df) - rows_without_missing)\n",
    "\n",
    "missing_values()"
   ]
  },
  {
   "cell_type": "markdown",
   "metadata": {},
   "source": [
    "## Replace the missing values\n",
    "- Change the negative ```income``` values to positive\n",
    "- Derive the ```income``` column to fill in missing values\n",
    "- Derive the ```tax``` colum to fill in missing values"
   ]
  },
  {
   "cell_type": "code",
   "execution_count": 17,
   "metadata": {},
   "outputs": [],
   "source": [
    "# replace negative income values\n",
    "df[\"income\"] = df[\"income\"].abs()\n",
    "\n",
    "# derive the income / tax\n",
    "df[\"income\"] = np.where((df.income.isna() & df[\"tax_15\"].notnull()), df[\"tax_15\"] * (100/15), df[\"income\"])\n",
    "\n",
    "df[\"tax_15\"] = np.where((df.income.notnull() & df[\"tax_15\"].isna()), df[\"income\"] * 0.15, df[\"tax_15\"])\n"
   ]
  },
  {
   "cell_type": "markdown",
   "metadata": {},
   "source": [
    "## Re-check how many missing values we have in the CSV```(DirtyData.csv)```\n",
    "### Use the function that you created previously to check how many missing values we have in the CSV```(DirtyData.csv)```"
   ]
  },
  {
   "cell_type": "code",
   "execution_count": 18,
   "metadata": {},
   "outputs": [
    {
     "name": "stdout",
     "output_type": "stream",
     "text": [
      "Missing values per column:\n",
      "first_name    0\n",
      "last_name     0\n",
      "email         0\n",
      "gender        0\n",
      "income        0\n",
      "tax_15        0\n",
      "\n",
      "Percentage of missing values:\n",
      "0.00%\n",
      "\n",
      "Number of rows WITHOUT any missing values:\n",
      "1000\n"
     ]
    }
   ],
   "source": [
    "missing_values()"
   ]
  },
  {
   "cell_type": "markdown",
   "metadata": {},
   "source": [
    "## Fix noisy data in the `gender` column"
   ]
  },
  {
   "cell_type": "code",
   "execution_count": 19,
   "metadata": {},
   "outputs": [],
   "source": [
    "df[\"gender\"] = df[\"gender\"].replace([\"Man\", \"Men\"], \"Male\", regex = True)\n",
    "df[\"gender\"] = df[\"gender\"].replace([\"Woman\", \"Women\"], \"Female\", regex = True)\n",
    "\n",
    "# write cleaned data to a new file\n",
    "df.to_csv(\"CleanedData.csv\")"
   ]
  }
 ],
 "metadata": {
  "kernelspec": {
   "display_name": "Python 3",
   "language": "python",
   "name": "python3"
  },
  "language_info": {
   "codemirror_mode": {
    "name": "ipython",
    "version": 3
   },
   "file_extension": ".py",
   "mimetype": "text/x-python",
   "name": "python",
   "nbconvert_exporter": "python",
   "pygments_lexer": "ipython3",
   "version": "3.12.6"
  }
 },
 "nbformat": 4,
 "nbformat_minor": 2
}
